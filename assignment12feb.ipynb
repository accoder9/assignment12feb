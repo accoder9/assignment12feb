{
 "cells": [
  {
   "cell_type": "markdown",
   "id": "3eb43498-23e2-4312-b523-6c71a81702c1",
   "metadata": {},
   "source": [
    "Q1. What is an Exception in python? Write the difference between Exceptions and Syntax errors."
   ]
  },
  {
   "cell_type": "markdown",
   "id": "45bcb91f-ca0c-421d-afd9-adf7afe74b5b",
   "metadata": {},
   "source": [
    "An exception is an event, which occurs during the execution of a program that disrupts the normal flow of the program's instructions. In general, when a Python script encounters a situation that it cannot cope with, it raises an exception. An exception is a Python object that represents an error.\n",
    "\n",
    "When the proper syntax of the language is not followed then a syntax error is thrown whereas When in the runtime an error that occurs after passing the syntax test is called exception or logical type. For example, when we divide any number by zero then the ZeroDivisionError exception is raised."
   ]
  },
  {
   "cell_type": "markdown",
   "id": "1475bb7f-ab1e-4eae-8347-c8d37a85d906",
   "metadata": {},
   "source": [
    "Q2. What happens when an exception is not handled?Explain with an example"
   ]
  },
  {
   "cell_type": "markdown",
   "id": "6977451a-3fc9-468d-843b-3f1a2c767948",
   "metadata": {},
   "source": [
    "If exceptions are not handled, it drives the program into a halt state. Exception handling in python is required to prevent the program from terminating abruptly.\n",
    "ex- a = 10\n",
    "b = 0\n",
    "c = b/a\n",
    "print(c)\n",
    "division by zero error will be shown and program will stop"
   ]
  },
  {
   "cell_type": "markdown",
   "id": "62f4c6da-e6a4-4140-b606-8cf36c6184e3",
   "metadata": {},
   "source": [
    "Q3. Which Python statements are used to catch and handle exceptions? Explain with\n",
    "an example"
   ]
  },
  {
   "cell_type": "markdown",
   "id": "94bb17bf-2bfb-4d53-828a-ac74fed1b1da",
   "metadata": {},
   "source": [
    "The try and except block in Python is used to catch and handle exceptions. Python executes code following the try statement as a “normal” part of the program. The code that follows the except statement is the program’s response to any exceptions in the preceding try clause.\n",
    "ex- \n",
    "    \n",
    "    try:\n",
    "    with open('file.log') as file:\n",
    "        read_data = file.read()\n",
    "    except:\n",
    "    print('Could not open file.log')"
   ]
  },
  {
   "cell_type": "markdown",
   "id": "c8292506-f7f8-4372-952c-73e16b91f781",
   "metadata": {},
   "source": [
    "Q4. Explain with an example:\n",
    "    \n",
    "a. try and else\n",
    "b.finally\n",
    "c. raise"
   ]
  },
  {
   "cell_type": "markdown",
   "id": "a1044a77-bf34-4a0c-9e0b-e3fefce8453f",
   "metadata": {},
   "source": [
    "a.try and else -The try block lets you test a block of code for errors and can use the else keyword to define a block of code to be executed if no errors were raised.\n",
    "ex- \n",
    "  \n",
    "    try:\n",
    "    print(\"Hello\")\n",
    "    except:\n",
    "    print(\"Something went wrong\")\n",
    "    else:\n",
    "    print(\"Nothing went wrong\")\n",
    "b.Finally-The finally block, if specified, will be executed regardless if the try block raises an error or not.\n",
    "ex-\n",
    "     \n",
    "     try:\n",
    "    print(10/0)\n",
    "    except:\n",
    "     print(\"Something went wrong\")\n",
    "     finally:\n",
    "     print(\"The 'try except' is finished\")\n",
    "c.Raise - The raise keyword is used to raise an exception if a condition occurs .\n",
    "ex-\n",
    "    \n",
    "    x = int(input())\n",
    "    if x < 0:\n",
    "    raise Exception(\"Sorry, no numbers below zero\")"
   ]
  },
  {
   "cell_type": "markdown",
   "id": "22230792-8213-4077-983f-3a7131c073a4",
   "metadata": {},
   "source": [
    "Q5. What are Custom Exceptions in python? Why do we need Custom Exceptions? Explain with an example"
   ]
  },
  {
   "cell_type": "markdown",
   "id": "c34eb75b-b485-4483-9fe6-768036745511",
   "metadata": {},
   "source": [
    "Sometimes based on project requirement, a programmer needs to create his own exceptions and raise explicitly for corresponding scenarios.custom exceptions are named as user-defined exceptions. Here the user-defined exceptions can be built defined by using a class declared for it. These customer exceptions are declared specifically to satisfy user necessities. All the user-defined exceptions will be derived from the user class.\n",
    "\n",
    "custom exceptions are used to customize the exception according to user need.\n",
    "\n",
    "ex- if we want to take age as an input but exception should be generated when negative age is entered .\n",
    "syntax-\n",
    "     \n",
    "     class CustomError(Exception):\n",
    "    ...\n",
    "    pass\n",
    "\n",
    "    try:\n",
    "    ...\n",
    "\n",
    "     except CustomError:\n",
    "       ...\n"
   ]
  },
  {
   "cell_type": "markdown",
   "id": "7e120fc8-c4e7-4752-9e8e-2c0fbe430b21",
   "metadata": {},
   "source": [
    "Q6. Create a custom exception class. Use this class to handle an exception."
   ]
  },
  {
   "cell_type": "code",
   "execution_count": 8,
   "id": "f10f3667-68f5-4c0b-8f31-caa7af45df98",
   "metadata": {},
   "outputs": [],
   "source": [
    "class NotValidAge(Exception):\n",
    "    def __init__(self,msg):\n",
    "        self.msg=msg\n",
    "def valid(age):\n",
    "    if age<18:\n",
    "        raise NotValidAge(\"Raised when the age is less than 18\")\n",
    "    else:\n",
    "        print(\"valid\")\n"
   ]
  },
  {
   "cell_type": "code",
   "execution_count": 9,
   "id": "085525df-77b0-4a8c-ac3e-d60ed9ce57b4",
   "metadata": {},
   "outputs": [
    {
     "name": "stdin",
     "output_type": "stream",
     "text": [
      " 17\n"
     ]
    },
    {
     "name": "stdout",
     "output_type": "stream",
     "text": [
      "Raised when the age is less than 18\n"
     ]
    }
   ],
   "source": [
    "try:\n",
    "    age=int(input())\n",
    "    valid(age)\n",
    "except NotValidAge as e:\n",
    "    print(e)"
   ]
  },
  {
   "cell_type": "code",
   "execution_count": null,
   "id": "11e0bc03-28f4-4f9d-893e-8a518789d451",
   "metadata": {},
   "outputs": [],
   "source": []
  },
  {
   "cell_type": "code",
   "execution_count": null,
   "id": "485ed09b-de74-4a74-8e09-b381b3f230b3",
   "metadata": {},
   "outputs": [],
   "source": []
  }
 ],
 "metadata": {
  "kernelspec": {
   "display_name": "Python 3 (ipykernel)",
   "language": "python",
   "name": "python3"
  },
  "language_info": {
   "codemirror_mode": {
    "name": "ipython",
    "version": 3
   },
   "file_extension": ".py",
   "mimetype": "text/x-python",
   "name": "python",
   "nbconvert_exporter": "python",
   "pygments_lexer": "ipython3",
   "version": "3.10.8"
  }
 },
 "nbformat": 4,
 "nbformat_minor": 5
}
